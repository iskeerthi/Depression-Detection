{
 "cells": [
  {
   "cell_type": "code",
   "execution_count": 4,
   "metadata": {},
   "outputs": [],
   "source": [
    "# pip install nltk\n"
   ]
  },
  {
   "cell_type": "code",
   "execution_count": 1,
   "metadata": {},
   "outputs": [
    {
     "name": "stdout",
     "output_type": "stream",
     "text": [
      "showing info https://raw.githubusercontent.com/nltk/nltk_data/gh-pages/index.xml\n"
     ]
    },
    {
     "name": "stderr",
     "output_type": "stream",
     "text": [
      "Exception in Tkinter callback\n",
      "Traceback (most recent call last):\n",
      "  File \"C:\\Users\\Vinay\\AppData\\Local\\Programs\\Python\\Python311\\Lib\\urllib\\request.py\", line 1348, in do_open\n",
      "    h.request(req.get_method(), req.selector, req.data, headers,\n",
      "  File \"C:\\Users\\Vinay\\AppData\\Local\\Programs\\Python\\Python311\\Lib\\http\\client.py\", line 1282, in request\n",
      "    self._send_request(method, url, body, headers, encode_chunked)\n",
      "  File \"C:\\Users\\Vinay\\AppData\\Local\\Programs\\Python\\Python311\\Lib\\http\\client.py\", line 1328, in _send_request\n",
      "    self.endheaders(body, encode_chunked=encode_chunked)\n",
      "  File \"C:\\Users\\Vinay\\AppData\\Local\\Programs\\Python\\Python311\\Lib\\http\\client.py\", line 1277, in endheaders\n",
      "    self._send_output(message_body, encode_chunked=encode_chunked)\n",
      "  File \"C:\\Users\\Vinay\\AppData\\Local\\Programs\\Python\\Python311\\Lib\\http\\client.py\", line 1037, in _send_output\n",
      "    self.send(msg)\n",
      "  File \"C:\\Users\\Vinay\\AppData\\Local\\Programs\\Python\\Python311\\Lib\\http\\client.py\", line 975, in send\n",
      "    self.connect()\n",
      "  File \"C:\\Users\\Vinay\\AppData\\Local\\Programs\\Python\\Python311\\Lib\\http\\client.py\", line 1447, in connect\n",
      "    super().connect()\n",
      "  File \"C:\\Users\\Vinay\\AppData\\Local\\Programs\\Python\\Python311\\Lib\\http\\client.py\", line 941, in connect\n",
      "    self.sock = self._create_connection(\n",
      "                ^^^^^^^^^^^^^^^^^^^^^^^^\n",
      "  File \"C:\\Users\\Vinay\\AppData\\Local\\Programs\\Python\\Python311\\Lib\\socket.py\", line 851, in create_connection\n",
      "    raise exceptions[0]\n",
      "  File \"C:\\Users\\Vinay\\AppData\\Local\\Programs\\Python\\Python311\\Lib\\socket.py\", line 836, in create_connection\n",
      "    sock.connect(sa)\n",
      "TimeoutError: [WinError 10060] A connection attempt failed because the connected party did not properly respond after a period of time, or established connection failed because connected host has failed to respond\n",
      "\n",
      "During handling of the above exception, another exception occurred:\n",
      "\n",
      "Traceback (most recent call last):\n",
      "  File \"e:\\Codebook projects\\diabeties prediction with aws\\diabetesenv\\Lib\\site-packages\\nltk\\downloader.py\", line 1623, in _refresh\n",
      "    self._fill_table()\n",
      "  File \"e:\\Codebook projects\\diabeties prediction with aws\\diabetesenv\\Lib\\site-packages\\nltk\\downloader.py\", line 1746, in _fill_table\n",
      "    items = self._ds.collections()\n",
      "            ^^^^^^^^^^^^^^^^^^^^^^\n",
      "  File \"e:\\Codebook projects\\diabeties prediction with aws\\diabetesenv\\Lib\\site-packages\\nltk\\downloader.py\", line 594, in collections\n",
      "    self._update_index()\n",
      "  File \"e:\\Codebook projects\\diabeties prediction with aws\\diabetesenv\\Lib\\site-packages\\nltk\\downloader.py\", line 952, in _update_index\n",
      "    ElementTree.parse(urlopen(self._url)).getroot()\n",
      "                      ^^^^^^^^^^^^^^^^^^\n",
      "  File \"C:\\Users\\Vinay\\AppData\\Local\\Programs\\Python\\Python311\\Lib\\urllib\\request.py\", line 216, in urlopen\n",
      "    return opener.open(url, data, timeout)\n",
      "           ^^^^^^^^^^^^^^^^^^^^^^^^^^^^^^^\n",
      "  File \"C:\\Users\\Vinay\\AppData\\Local\\Programs\\Python\\Python311\\Lib\\urllib\\request.py\", line 519, in open\n",
      "    response = self._open(req, data)\n",
      "               ^^^^^^^^^^^^^^^^^^^^^\n",
      "  File \"C:\\Users\\Vinay\\AppData\\Local\\Programs\\Python\\Python311\\Lib\\urllib\\request.py\", line 536, in _open\n",
      "    result = self._call_chain(self.handle_open, protocol, protocol +\n",
      "             ^^^^^^^^^^^^^^^^^^^^^^^^^^^^^^^^^^^^^^^^^^^^^^^^^^^^^^^\n",
      "  File \"C:\\Users\\Vinay\\AppData\\Local\\Programs\\Python\\Python311\\Lib\\urllib\\request.py\", line 496, in _call_chain\n",
      "    result = func(*args)\n",
      "             ^^^^^^^^^^^\n",
      "  File \"C:\\Users\\Vinay\\AppData\\Local\\Programs\\Python\\Python311\\Lib\\urllib\\request.py\", line 1391, in https_open\n",
      "    return self.do_open(http.client.HTTPSConnection, req,\n",
      "           ^^^^^^^^^^^^^^^^^^^^^^^^^^^^^^^^^^^^^^^^^^^^^^\n",
      "  File \"C:\\Users\\Vinay\\AppData\\Local\\Programs\\Python\\Python311\\Lib\\urllib\\request.py\", line 1351, in do_open\n",
      "    raise URLError(err)\n",
      "urllib.error.URLError: <urlopen error [WinError 10060] A connection attempt failed because the connected party did not properly respond after a period of time, or established connection failed because connected host has failed to respond>\n",
      "\n",
      "During handling of the above exception, another exception occurred:\n",
      "\n",
      "Traceback (most recent call last):\n",
      "  File \"C:\\Users\\Vinay\\AppData\\Local\\Programs\\Python\\Python311\\Lib\\tkinter\\__init__.py\", line 1948, in __call__\n",
      "    return self.func(*args)\n",
      "           ^^^^^^^^^^^^^^^^\n",
      "  File \"e:\\Codebook projects\\diabeties prediction with aws\\diabetesenv\\Lib\\site-packages\\nltk\\downloader.py\", line 1627, in _refresh\n",
      "    showerror(\"Error connecting to server\", e.reason)\n",
      "  File \"C:\\Users\\Vinay\\AppData\\Local\\Programs\\Python\\Python311\\Lib\\tkinter\\messagebox.py\", line 98, in showerror\n",
      "    return _show(title, message, ERROR, OK, **options)\n",
      "           ^^^^^^^^^^^^^^^^^^^^^^^^^^^^^^^^^^^^^^^^^^^\n",
      "  File \"C:\\Users\\Vinay\\AppData\\Local\\Programs\\Python\\Python311\\Lib\\tkinter\\messagebox.py\", line 76, in _show\n",
      "    res = Message(**options).show()\n",
      "          ^^^^^^^^^^^^^^^^^^^^^^^^^\n",
      "  File \"C:\\Users\\Vinay\\AppData\\Local\\Programs\\Python\\Python311\\Lib\\tkinter\\commondialog.py\", line 45, in show\n",
      "    s = master.tk.call(self.command, *master._options(self.options))\n",
      "        ^^^^^^^^^^^^^^^^^^^^^^^^^^^^^^^^^^^^^^^^^^^^^^^^^^^^^^^^^^^^\n",
      "KeyboardInterrupt\n"
     ]
    },
    {
     "data": {
      "text/plain": [
       "True"
      ]
     },
     "execution_count": 1,
     "metadata": {},
     "output_type": "execute_result"
    }
   ],
   "source": [
    "import nltk\n",
    "nltk.download()\n"
   ]
  }
 ],
 "metadata": {
  "kernelspec": {
   "display_name": "diabetesenv",
   "language": "python",
   "name": "python3"
  },
  "language_info": {
   "codemirror_mode": {
    "name": "ipython",
    "version": 3
   },
   "file_extension": ".py",
   "mimetype": "text/x-python",
   "name": "python",
   "nbconvert_exporter": "python",
   "pygments_lexer": "ipython3",
   "version": "3.11.2"
  },
  "orig_nbformat": 4
 },
 "nbformat": 4,
 "nbformat_minor": 2
}
